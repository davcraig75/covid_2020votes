{
 "cells": [
  {
   "cell_type": "markdown",
   "id": "5a86da6c-d5cf-432c-8e8a-4223ddcbea56",
   "metadata": {},
   "source": [
    "# Creating my script"
   ]
  },
  {
   "cell_type": "code",
   "execution_count": 105,
   "id": "0d3b1381-a9b0-4de1-aedc-6cb52f56d808",
   "metadata": {},
   "outputs": [
    {
     "name": "stdout",
     "output_type": "stream",
     "text": [
      "Overwriting merge_tables.py\n"
     ]
    }
   ],
   "source": [
    "%%file merge_tables.py\n",
    "import sys\n",
    "import fileinput\n",
    "import re\n",
    "Lookup_CountyState={}\n",
    "covid_data_file=\"data/nyt.covid.us-counties.csv\"\n",
    "# Line by Line storing deathrate into an associate array/dictionary by uid, called Lookup_CountyState\n",
    "for each_line_of_text in fileinput.input(covid_data_file):\n",
    "    each_line_text=each_line_of_text.strip()\n",
    "    if not fileinput.isfirstline():\n",
    "        splitcolumn_array = re.split(',',each_line_of_text.replace( '\"' ,'').replace('\\n',''))\n",
    "        uid=splitcolumn_array[1].lower()+\":\"+splitcolumn_array[2].lower() \n",
    "        if splitcolumn_array[1]!=\"Unknown\" and splitcolumn_array[5] and splitcolumn_array[0]=='2022-05-13':\n",
    "            if int(splitcolumn_array[4])>=0:\n",
    "                deathrate=int(splitcolumn_array[5])/int(splitcolumn_array[4])\n",
    "                Lookup_CountyState[uid]=deathrate\n",
    "\n",
    "# Going through our second file, and simply plugging in based on uid.                \n",
    "vote_data_file=\"data/countypres_2000-2020.tsv\"\n",
    "lookup_republicans={}\n",
    "lookup_democrat={}\n",
    "lookup_green={}\n",
    "lookup_other={}\n",
    "lookup_libertarian={}\n",
    "\n",
    "for each_line_of_text in fileinput.input(vote_data_file):\n",
    "    each_line_of_text=each_line_of_text.strip()\n",
    "    if not fileinput.isfirstline():\n",
    "        splitcolumn_array = re.split('\\t',each_line_of_text.replace( '\"' ,'').replace('\\n',''))\n",
    "        uid=splitcolumn_array[3].lower()+\":\"+splitcolumn_array[1].lower()\n",
    "        if uid in Lookup_CountyState:\n",
    "            if splitcolumn_array[7] == 'REPUBLICAN':\n",
    "                lookup_republicans[uid]=splitcolumn_array[8]\n",
    "            elif splitcolumn_array[7] == 'DEMOCRAT':\n",
    "                lookup_democrat[uid]=splitcolumn_array[8]\n",
    "            elif splitcolumn_array[7] == 'GREEN':     \n",
    "                lookup_green[uid]=splitcolumn_array[8]                \n",
    "            elif splitcolumn_array[7] == 'OTHER':     \n",
    "                lookup_other[uid]=splitcolumn_array[8]\n",
    "            elif splitcolumn_array[7] == 'LIBERTARIAN':     \n",
    "                lookup_other[uid]=splitcolumn_array[8]                \n",
    "            else: \n",
    "                print(\"I shouldn't be here\",splitcolumn_array[7])\n",
    "                \n",
    "\n",
    "print('uid'+'\\t'+'deathrate'+'\\t'+'republicans'+'\\t'+'democrats'+'\\t'+'perc_repub')\n",
    "for uid in Lookup_CountyState:\n",
    "    if lookup_republicans[uid]:\n",
    "        if lookup_democrat[uid]:\n",
    "            perc_rep=int(lookup_republicans[uid])/(int(lookup_republicans[uid])+int(lookup_democrat[uid]))\n",
    "            print(uid+'\\t'+str(Lookup_CountyState[uid])+\"\\t\"+str(lookup_republicans[uid])+'\\t'+str(lookup_democrat[uid])+'\\t'+str(perc_rep))\n",
    "            \n"
   ]
  },
  {
   "cell_type": "code",
   "execution_count": 104,
   "id": "335039da-9bee-4d8c-8c64-6056159e9a2f",
   "metadata": {},
   "outputs": [
    {
     "name": "stdout",
     "output_type": "stream",
     "text": [
      "uid\tdeathrate\trepublicans\tdemocrats\tperc_repub\n",
      "Traceback (most recent call last):\n",
      "  File \"merge_tables.py\", line 49, in <module>\n",
      "    perc_rep=lookup_republicans[uid]/(lookup_republicans[uid]+lookup_democrat[uid])\n",
      "TypeError: unsupported operand type(s) for /: 'str' and 'str'\n"
     ]
    }
   ],
   "source": [
    "!python3 merge_tables.py"
   ]
  },
  {
   "cell_type": "code",
   "execution_count": null,
   "id": "90c2272e-eb81-428b-845e-7493db25afd0",
   "metadata": {},
   "outputs": [],
   "source": []
  },
  {
   "cell_type": "code",
   "execution_count": null,
   "id": "74014632-69c1-4c70-9f10-e34ecfe41144",
   "metadata": {},
   "outputs": [],
   "source": []
  }
 ],
 "metadata": {
  "kernelspec": {
   "display_name": "Python 3 (ipykernel)",
   "language": "python",
   "name": "python3"
  },
  "language_info": {
   "codemirror_mode": {
    "name": "ipython",
    "version": 3
   },
   "file_extension": ".py",
   "mimetype": "text/x-python",
   "name": "python",
   "nbconvert_exporter": "python",
   "pygments_lexer": "ipython3",
   "version": "3.8.9"
  }
 },
 "nbformat": 4,
 "nbformat_minor": 5
}
