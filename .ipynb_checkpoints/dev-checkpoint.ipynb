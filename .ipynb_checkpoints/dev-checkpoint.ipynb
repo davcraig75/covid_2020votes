{
 "cells": [
  {
   "cell_type": "markdown",
   "id": "42f1adc0-162a-4c0d-9ebc-4dd01f023da2",
   "metadata": {},
   "source": [
    "# Read file 1, # Read file 1, "
   ]
  },
  {
   "cell_type": "code",
   "execution_count": 2,
   "id": "c9593075-7808-4600-893e-936e1c5513da",
   "metadata": {},
   "outputs": [
    {
     "name": "stdout",
     "output_type": "stream",
     "text": [
      "Overwriting merge_sets.py\n"
     ]
    }
   ],
   "source": [
    "%%file merge_sets.py\n",
    "import sys\n",
    "import re\n",
    "with open(\"nyt.covid.us-counties.csv\", 'r') as file:\n",
    "    for line in file:\n",
    "        print(line)"
   ]
  },
  {
   "cell_type": "code",
   "execution_count": 3,
   "id": "1d780134-d91e-4eb2-b672-0f2a9dfe76ac",
   "metadata": {},
   "outputs": [
    {
     "name": "stdout",
     "output_type": "stream",
     "text": [
      "Traceback (most recent call last):\n",
      "  File \"merge_sets.py\", line 4, in <module>\n",
      "    with open(\"nyt.covid.us-counties.csv\", 'r') as file:\n",
      "FileNotFoundError: [Errno 2] No such file or directory: 'nyt.covid.us-counties.csv'\n"
     ]
    }
   ],
   "source": [
    "!python3 merge_sets.py"
   ]
  },
  {
   "cell_type": "code",
   "execution_count": null,
   "id": "e560de34-5767-49d6-b4ff-c095f8672f01",
   "metadata": {},
   "outputs": [],
   "source": []
  },
  {
   "cell_type": "code",
   "execution_count": null,
   "id": "588f93c4-9be4-4a70-9ca2-157d3bbbd882",
   "metadata": {},
   "outputs": [],
   "source": []
  }
 ],
 "metadata": {
  "kernelspec": {
   "display_name": "Python 3 (ipykernel)",
   "language": "python",
   "name": "python3"
  },
  "language_info": {
   "codemirror_mode": {
    "name": "ipython",
    "version": 3
   },
   "file_extension": ".py",
   "mimetype": "text/x-python",
   "name": "python",
   "nbconvert_exporter": "python",
   "pygments_lexer": "ipython3",
   "version": "3.8.9"
  }
 },
 "nbformat": 4,
 "nbformat_minor": 5
}
