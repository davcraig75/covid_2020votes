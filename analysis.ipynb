{
 "cells": [
  {
   "cell_type": "code",
   "execution_count": 19,
   "id": "9c96eb5d-c41d-4a98-9377-2e1ff67a4bf0",
   "metadata": {},
   "outputs": [],
   "source": [
    "import pandas as pd\n",
    "df=pd.read_csv('merged.tsv', sep='\\t',index_col=0)\n"
   ]
  },
  {
   "cell_type": "markdown",
   "id": "6fc07b2f-b907-4a54-8d66-edaef0eb1ae7",
   "metadata": {},
   "source": [
    "# Looking at first 5 lines"
   ]
  },
  {
   "cell_type": "code",
   "execution_count": 21,
   "id": "0068185f-40b0-4d64-8415-cb25b867f44a",
   "metadata": {},
   "outputs": [
    {
     "data": {
      "text/html": [
       "<div>\n",
       "<style scoped>\n",
       "    .dataframe tbody tr th:only-of-type {\n",
       "        vertical-align: middle;\n",
       "    }\n",
       "\n",
       "    .dataframe tbody tr th {\n",
       "        vertical-align: top;\n",
       "    }\n",
       "\n",
       "    .dataframe thead th {\n",
       "        text-align: right;\n",
       "    }\n",
       "</style>\n",
       "<table border=\"1\" class=\"dataframe\">\n",
       "  <thead>\n",
       "    <tr style=\"text-align: right;\">\n",
       "      <th></th>\n",
       "      <th>deathrate</th>\n",
       "      <th>republicans</th>\n",
       "      <th>democrats</th>\n",
       "      <th>perc_repub</th>\n",
       "    </tr>\n",
       "    <tr>\n",
       "      <th>uid</th>\n",
       "      <th></th>\n",
       "      <th></th>\n",
       "      <th></th>\n",
       "      <th></th>\n",
       "    </tr>\n",
       "  </thead>\n",
       "  <tbody>\n",
       "    <tr>\n",
       "      <th>autauga:alabama</th>\n",
       "      <td>0.013617</td>\n",
       "      <td>19838</td>\n",
       "      <td>7503</td>\n",
       "      <td>0.725577</td>\n",
       "    </tr>\n",
       "    <tr>\n",
       "      <th>baldwin:alabama</th>\n",
       "      <td>0.012191</td>\n",
       "      <td>83544</td>\n",
       "      <td>24578</td>\n",
       "      <td>0.772683</td>\n",
       "    </tr>\n",
       "    <tr>\n",
       "      <th>barbour:alabama</th>\n",
       "      <td>0.017250</td>\n",
       "      <td>5622</td>\n",
       "      <td>4816</td>\n",
       "      <td>0.538609</td>\n",
       "    </tr>\n",
       "    <tr>\n",
       "      <th>bibb:alabama</th>\n",
       "      <td>0.016261</td>\n",
       "      <td>7525</td>\n",
       "      <td>1986</td>\n",
       "      <td>0.791189</td>\n",
       "    </tr>\n",
       "    <tr>\n",
       "      <th>blount:alabama</th>\n",
       "      <td>0.016195</td>\n",
       "      <td>24711</td>\n",
       "      <td>2640</td>\n",
       "      <td>0.903477</td>\n",
       "    </tr>\n",
       "  </tbody>\n",
       "</table>\n",
       "</div>"
      ],
      "text/plain": [
       "                 deathrate  republicans  democrats  perc_repub\n",
       "uid                                                           \n",
       "autauga:alabama   0.013617        19838       7503    0.725577\n",
       "baldwin:alabama   0.012191        83544      24578    0.772683\n",
       "barbour:alabama   0.017250         5622       4816    0.538609\n",
       "bibb:alabama      0.016261         7525       1986    0.791189\n",
       "blount:alabama    0.016195        24711       2640    0.903477"
      ]
     },
     "execution_count": 21,
     "metadata": {},
     "output_type": "execute_result"
    }
   ],
   "source": [
    "df.head()"
   ]
  },
  {
   "cell_type": "code",
   "execution_count": 22,
   "id": "22af3112-9d78-4c26-975e-96085b8e313b",
   "metadata": {},
   "outputs": [
    {
     "data": {
      "text/plain": [
       "0.6541276714060194"
      ]
     },
     "execution_count": 22,
     "metadata": {},
     "output_type": "execute_result"
    }
   ],
   "source": [
    "df[\"perc_repub\"].mean()"
   ]
  },
  {
   "cell_type": "code",
   "execution_count": null,
   "id": "bd1f57c1-c606-4ca1-9756-8087624385c0",
   "metadata": {},
   "outputs": [],
   "source": [
    "df[\"pctRepub\"] = df[\"col1\"]/df[\"col2\"]"
   ]
  },
  {
   "cell_type": "code",
   "execution_count": null,
   "id": "48609b3b-377c-4bd1-ab9a-0fa05a6c7ff1",
   "metadata": {},
   "outputs": [],
   "source": []
  }
 ],
 "metadata": {
  "kernelspec": {
   "display_name": "Python 3 (ipykernel)",
   "language": "python",
   "name": "python3"
  },
  "language_info": {
   "codemirror_mode": {
    "name": "ipython",
    "version": 3
   },
   "file_extension": ".py",
   "mimetype": "text/x-python",
   "name": "python",
   "nbconvert_exporter": "python",
   "pygments_lexer": "ipython3",
   "version": "3.8.9"
  }
 },
 "nbformat": 4,
 "nbformat_minor": 5
}
