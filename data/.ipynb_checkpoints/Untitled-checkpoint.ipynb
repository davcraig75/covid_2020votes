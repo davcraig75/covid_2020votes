{
 "cells": [
  {
   "cell_type": "markdown",
   "id": "42f1adc0-162a-4c0d-9ebc-4dd01f023da2",
   "metadata": {},
   "source": [
    "# Read file 1, # Read file 1, "
   ]
  },
  {
   "cell_type": "code",
   "execution_count": null,
   "id": "c9593075-7808-4600-893e-936e1c5513da",
   "metadata": {},
   "outputs": [
    {
     "ename": "SyntaxError",
     "evalue": "Missing parentheses in call to 'print'. Did you mean print(\"[ERR] File does not exist\")? (752275544.py, line 11)",
     "output_type": "error",
     "traceback": [
      "\u001b[0;36m  Cell \u001b[0;32mIn [1], line 11\u001b[0;36m\u001b[0m\n\u001b[0;31m    print \"[ERR] File does not exist\"\u001b[0m\n\u001b[0m          ^\u001b[0m\n\u001b[0;31mSyntaxError\u001b[0m\u001b[0;31m:\u001b[0m Missing parentheses in call to 'print'. Did you mean print(\"[ERR] File does not exist\")?\n"
     ]
    }
   ],
   "source": [
    "outnum = 0\n",
    "with open(\"nyt.covid.us-counties.csv\") as infile:\n",
    "    outnum += 1\n",
    "    outfile = open(f\"test_out{outnum}.txt\", \"w\")\n",
    "    for line in infile:\n",
    "        if outfile.closed:\n",
    "            outfile = open(f\"test_out{outnum}.txt\", \"w\")\n",
    "        if len(line) == 1: # only the end-of-line character\n",
    "            continue;\n",
    "        outfile.write(line)\n",
    "        if line.startswith('$'):\n",
    "            outfile.close()\n",
    "            outnum += 1\n",
    "            continue;\n",
    "if not outfile.closed: # last line didn't start with $\n",
    "    outfile.close()"
   ]
  }
 ],
 "metadata": {
  "kernelspec": {
   "display_name": "Python 3 (ipykernel)",
   "language": "python",
   "name": "python3"
  },
  "language_info": {
   "codemirror_mode": {
    "name": "ipython",
    "version": 3
   },
   "file_extension": ".py",
   "mimetype": "text/x-python",
   "name": "python",
   "nbconvert_exporter": "python",
   "pygments_lexer": "ipython3",
   "version": "3.8.9"
  }
 },
 "nbformat": 4,
 "nbformat_minor": 5
}
